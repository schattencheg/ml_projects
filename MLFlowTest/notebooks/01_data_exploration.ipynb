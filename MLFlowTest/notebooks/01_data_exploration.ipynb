{
 "cells": [
  {
   "cell_type": "markdown",
   "metadata": {},
   "source": [
    "# OHLC Data Exploration Notebook\n",
    "\n",
    "This notebook demonstrates how to explore market data and understand the features for OHLC price prediction."
   ]
  },
  {
   "cell_type": "code",
   "execution_count": null,
   "metadata": {},
   "outputs": [],
   "source": [
    "import sys\n",
    "import pandas as pd\n",
    "import numpy as np\n",
    "import matplotlib.pyplot as plt\n",
    "import seaborn as sns\n",
    "from pathlib import Path\n",
    "\n",
    "# Add src to path\n",
    "sys.path.append('../src')\n",
    "\n",
    "from data import DataFetcher, DataPreprocessor\n",
    "from features import FeatureEngineer, TechnicalIndicators\n",
    "from utils import config\n",
    "\n",
    "# Set style\n",
    "plt.style.use('seaborn-v0_8')\n",
    "sns.set_palette('husl')\n",
    "\n",
    "%matplotlib inline"
   ]
  },
  {
   "cell_type": "markdown",
   "metadata": {},
   "source": [
    "## 1. Data Fetching\n",
    "\n",
    "Let's start by fetching some market data for analysis."
   ]
  },
  {
   "cell_type": "code",
   "execution_count": null,
   "metadata": {},
   "outputs": [],
   "source": [
    "# Initialize data fetcher\n",
    "data_fetcher = DataFetcher()\n",
    "\n",
    "# Fetch data for Apple (AAPL)\n",
    "symbol = 'AAPL'\n",
    "raw_data = data_fetcher.fetch_symbol_data(symbol, period='2y', save_to_file=True)\n",
    "\n",
    "print(f\"Data shape: {raw_data.shape}\")\n",
    "print(f\"Date range: {raw_data.index.min()} to {raw_data.index.max()}\")\n",
    "raw_data.head()"
   ]
  },
  {
   "cell_type": "markdown",
   "metadata": {},
   "source": [
    "## 2. Basic Data Analysis"
   ]
  },
  {
   "cell_type": "code",
   "execution_count": null,
   "metadata": {},
   "outputs": [],
   "source": [
    "# Basic statistics\n",
    "print(\"Basic Statistics:\")\n",
    "print(raw_data.describe())\n",
    "\n",
    "# Check for missing values\n",
    "print(\"\\nMissing Values:\")\n",
    "print(raw_data.isnull().sum())\n",
    "\n",
    "# Data types\n",
    "print(\"\\nData Types:\")\n",
    "print(raw_data.dtypes)"
   ]
  },
  {
   "cell_type": "code",
   "execution_count": null,
   "metadata": {},
   "outputs": [],
   "source": [
    "# Plot OHLC data\n",
    "fig, axes = plt.subplots(2, 2, figsize=(15, 10))\n",
    "\n",
    "# Price plot\n",
    "axes[0, 0].plot(raw_data.index, raw_data['Close'], label='Close', alpha=0.8)\n",
    "axes[0, 0].plot(raw_data.index, raw_data['Open'], label='Open', alpha=0.6)\n",
    "axes[0, 0].set_title(f'{symbol} - Open vs Close Prices')\n",
    "axes[0, 0].legend()\n",
    "axes[0, 0].grid(True, alpha=0.3)\n",
    "\n",
    "# High-Low range\n",
    "axes[0, 1].fill_between(raw_data.index, raw_data['Low'], raw_data['High'], alpha=0.3, label='High-Low Range')\n",
    "axes[0, 1].plot(raw_data.index, raw_data['Close'], color='red', label='Close', alpha=0.8)\n",
    "axes[0, 1].set_title(f'{symbol} - Price Range')\n",
    "axes[0, 1].legend()\n",
    "axes[0, 1].grid(True, alpha=0.3)\n",
    "\n",
    "# Volume\n",
    "axes[1, 0].bar(raw_data.index, raw_data['Volume'], alpha=0.6, width=1)\n",
    "axes[1, 0].set_title(f'{symbol} - Trading Volume')\n",
    "axes[1, 0].grid(True, alpha=0.3)\n",
    "\n",
    "# Price returns\n",
    "returns = raw_data['Close'].pct_change().dropna()\n",
    "axes[1, 1].hist(returns, bins=50, alpha=0.7, edgecolor='black')\n",
    "axes[1, 1].set_title(f'{symbol} - Daily Returns Distribution')\n",
    "axes[1, 1].set_xlabel('Daily Return')\n",
    "axes[1, 1].set_ylabel('Frequency')\n",
    "axes[1, 1].grid(True, alpha=0.3)\n",
    "\n",
    "plt.tight_layout()\n",
    "plt.show()"
   ]
  },
  {
   "cell_type": "markdown",
   "metadata": {},
   "source": [
    "## 3. Feature Engineering\n",
    "\n",
    "Let's create technical indicators and other features."
   ]
  },
  {
   "cell_type": "code",
   "execution_count": null,
   "metadata": {},
   "outputs": [],
   "source": [
    "# Initialize feature engineer and preprocessor\n",
    "preprocessor = DataPreprocessor()\n",
    "feature_engineer = FeatureEngineer()\n",
    "technical_indicators = TechnicalIndicators()\n",
    "\n",
    "# Clean and engineer features\n",
    "cleaned_data = preprocessor.clean_data(raw_data)\n",
    "featured_data = feature_engineer.engineer_features(cleaned_data)\n",
    "\n",
    "print(f\"Original features: {raw_data.shape[1]}\")\n",
    "print(f\"Engineered features: {featured_data.shape[1]}\")\n",
    "print(f\"New features created: {featured_data.shape[1] - raw_data.shape[1]}\")"
   ]
  },
  {
   "cell_type": "code",
   "execution_count": null,
   "metadata": {},
   "outputs": [],
   "source": [
    "# Display some key technical indicators\n",
    "fig, axes = plt.subplots(3, 2, figsize=(15, 12))\n",
    "\n",
    "# Moving averages\n",
    "axes[0, 0].plot(featured_data.index, featured_data['Close'], label='Close', alpha=0.8)\n",
    "axes[0, 0].plot(featured_data.index, featured_data['SMA_20'], label='SMA 20', alpha=0.7)\n",
    "axes[0, 0].plot(featured_data.index, featured_data['SMA_50'], label='SMA 50', alpha=0.7)\n",
    "axes[0, 0].set_title('Price with Moving Averages')\n",
    "axes[0, 0].legend()\n",
    "axes[0, 0].grid(True, alpha=0.3)\n",
    "\n",
    "# RSI\n",
    "axes[0, 1].plot(featured_data.index, featured_data['RSI'], color='purple')\n",
    "axes[0, 1].axhline(y=70, color='r', linestyle='--', alpha=0.7, label='Overbought')\n",
    "axes[0, 1].axhline(y=30, color='g', linestyle='--', alpha=0.7, label='Oversold')\n",
    "axes[0, 1].set_title('RSI (Relative Strength Index)')\n",
    "axes[0, 1].set_ylim(0, 100)\n",
    "axes[0, 1].legend()\n",
    "axes[0, 1].grid(True, alpha=0.3)\n",
    "\n",
    "# MACD\n",
    "axes[1, 0].plot(featured_data.index, featured_data['MACD'], label='MACD', alpha=0.8)\n",
    "axes[1, 0].plot(featured_data.index, featured_data['MACD_Signal'], label='Signal', alpha=0.8)\n",
    "axes[1, 0].bar(featured_data.index, featured_data['MACD_Histogram'], alpha=0.3, label='Histogram')\n",
    "axes[1, 0].set_title('MACD')\n",
    "axes[1, 0].legend()\n",
    "axes[1, 0].grid(True, alpha=0.3)\n",
    "\n",
    "# Bollinger Bands\n",
    "axes[1, 1].plot(featured_data.index, featured_data['Close'], label='Close', alpha=0.8)\n",
    "axes[1, 1].plot(featured_data.index, featured_data['BB_Upper'], label='BB Upper', alpha=0.7)\n",
    "axes[1, 1].plot(featured_data.index, featured_data['BB_Lower'], label='BB Lower', alpha=0.7)\n",
    "axes[1, 1].fill_between(featured_data.index, featured_data['BB_Lower'], featured_data['BB_Upper'], alpha=0.1)\n",
    "axes[1, 1].set_title('Bollinger Bands')\n",
    "axes[1, 1].legend()\n",
    "axes[1, 1].grid(True, alpha=0.3)\n",
    "\n",
    "# Volatility\n",
    "axes[2, 0].plot(featured_data.index, featured_data['Volatility_20d'], label='20-day Volatility')\n",
    "axes[2, 0].set_title('Price Volatility')\n",
    "axes[2, 0].legend()\n",
    "axes[2, 0].grid(True, alpha=0.3)\n",
    "\n",
    "# Volume indicators\n",
    "axes[2, 1].plot(featured_data.index, featured_data['Volume'], alpha=0.6, label='Volume')\n",
    "axes[2, 1].plot(featured_data.index, featured_data['Volume_SMA_20'], label='Volume SMA 20')\n",
    "axes[2, 1].set_title('Volume Analysis')\n",
    "axes[2, 1].legend()\n",
    "axes[2, 1].grid(True, alpha=0.3)\n",
    "\n",
    "plt.tight_layout()\n",
    "plt.show()"
   ]
  },
  {
   "cell_type": "markdown",
   "metadata": {},
   "source": [
    "## 4. Feature Correlation Analysis"
   ]
  },
  {
   "cell_type": "code",
   "execution_count": null,
   "metadata": {},
   "outputs": [],
   "source": [
    "# Select numeric features for correlation analysis\n",
    "numeric_features = featured_data.select_dtypes(include=[np.number]).columns\n",
    "correlation_data = featured_data[numeric_features].dropna()\n",
    "\n",
    "# Calculate correlation with target (Close price)\n",
    "target_corr = correlation_data.corr()['Close'].abs().sort_values(ascending=False)\n",
    "\n",
    "print(\"Top 20 features correlated with Close price:\")\n",
    "print(target_corr.head(20))"
   ]
  },
  {
   "cell_type": "code",
   "execution_count": null,
   "metadata": {},
   "outputs": [],
   "source": [
    "# Plot correlation heatmap for top features\n",
    "top_features = target_corr.head(15).index\n",
    "corr_matrix = correlation_data[top_features].corr()\n",
    "\n",
    "plt.figure(figsize=(12, 10))\n",
    "sns.heatmap(corr_matrix, annot=True, cmap='coolwarm', center=0, \n",
    "            square=True, fmt='.2f', cbar_kws={'shrink': 0.8})\n",
    "plt.title('Correlation Matrix - Top Features')\n",
    "plt.tight_layout()\n",
    "plt.show()"
   ]
  },
  {
   "cell_type": "markdown",
   "metadata": {},
   "source": [
    "## 5. Data Preparation for Modeling"
   ]
  },
  {
   "cell_type": "code",
   "execution_count": null,
   "metadata": {},
   "outputs": [],
   "source": [
    "# Prepare data for modeling\n",
    "target_columns = ['Close']\n",
    "feature_columns = [col for col in featured_data.columns \n",
    "                  if col not in ['Symbol'] + target_columns]\n",
    "\n",
    "# Remove NaN values\n",
    "model_data = featured_data.dropna()\n",
    "\n",
    "print(f\"Model data shape: {model_data.shape}\")\n",
    "print(f\"Features: {len(feature_columns)}\")\n",
    "print(f\"Targets: {len(target_columns)}\")\n",
    "\n",
    "# Show data distribution\n",
    "fig, axes = plt.subplots(1, 2, figsize=(12, 5))\n",
    "\n",
    "# Feature distribution (sample)\n",
    "sample_features = model_data[feature_columns].sample(n=5, axis=1)\n",
    "sample_features.hist(bins=30, ax=axes[0], alpha=0.7)\n",
    "axes[0].set_title('Sample Feature Distributions')\n",
    "\n",
    "# Target distribution\n",
    "axes[1].hist(model_data['Close'], bins=50, alpha=0.7, edgecolor='black')\n",
    "axes[1].set_title('Target (Close Price) Distribution')\n",
    "axes[1].set_xlabel('Close Price')\n",
    "axes[1].set_ylabel('Frequency')\n",
    "\n",
    "plt.tight_layout()\n",
    "plt.show()"
   ]
  },
  {
   "cell_type": "markdown",
   "metadata": {},
   "source": [
    "## 6. Time Series Analysis"
   ]
  },
  {
   "cell_type": "code",
   "execution_count": null,
   "metadata": {},
   "outputs": [],
   "source": [
    "# Analyze time series properties\n",
    "from statsmodels.tsa.stattools import adfuller\n",
    "from statsmodels.graphics.tsaplots import plot_acf, plot_pacf\n",
    "\n",
    "# Test for stationarity\n",
    "def check_stationarity(timeseries, title):\n",
    "    result = adfuller(timeseries.dropna())\n",
    "    print(f'\\n{title}:')\n",
    "    print(f'ADF Statistic: {result[0]:.6f}')\n",
    "    print(f'p-value: {result[1]:.6f}')\n",
    "    print(f'Critical Values:')\n",
    "    for key, value in result[4].items():\n",
    "        print(f'\\t{key}: {value:.3f}')\n",
    "    \n",
    "    if result[1] <= 0.05:\n",
    "        print(\"Result: Series is stationary\")\n",
    "    else:\n",
    "        print(\"Result: Series is non-stationary\")\n",
    "\n",
    "# Check stationarity of price and returns\n",
    "check_stationarity(model_data['Close'], 'Close Price')\n",
    "check_stationarity(model_data['Close'].pct_change(), 'Price Returns')"
   ]
  },
  {
   "cell_type": "code",
   "execution_count": null,
   "metadata": {},
   "outputs": [],
   "source": [
    "# Plot ACF and PACF for returns\n",
    "returns = model_data['Close'].pct_change().dropna()\n",
    "\n",
    "fig, axes = plt.subplots(1, 2, figsize=(15, 5))\n",
    "\n",
    "plot_acf(returns, ax=axes[0], lags=40)\n",
    "axes[0].set_title('Autocorrelation Function - Returns')\n",
    "\n",
    "plot_pacf(returns, ax=axes[1], lags=40)\n",
    "axes[1].set_title('Partial Autocorrelation Function - Returns')\n",
    "\n",
    "plt.tight_layout()\n",
    "plt.show()"
   ]
  },
  {
   "cell_type": "markdown",
   "metadata": {},
   "source": [
    "## 7. Summary and Next Steps\n",
    "\n",
    "This notebook has provided a comprehensive exploration of the OHLC data including:\n",
    "\n",
    "1. **Data Quality**: Checked for missing values and data consistency\n",
    "2. **Feature Engineering**: Created technical indicators and custom features\n",
    "3. **Correlation Analysis**: Identified features most correlated with target\n",
    "4. **Time Series Properties**: Analyzed stationarity and autocorrelation\n",
    "\n",
    "### Key Findings:\n",
    "- The data shows typical financial time series characteristics\n",
    "- Technical indicators provide valuable signals\n",
    "- Price series is non-stationary but returns are stationary\n",
    "- Strong correlations exist between price-based features\n",
    "\n",
    "### Next Steps:\n",
    "1. Use this analysis to inform model selection\n",
    "2. Consider feature selection based on correlation analysis\n",
    "3. Apply appropriate preprocessing for time series modeling\n",
    "4. Train and evaluate different model types (LSTM, RF, XGBoost)"
   ]
  }
 ],
 "metadata": {
  "kernelspec": {
   "display_name": "Python 3",
   "language": "python",
   "name": "python3"
  },
  "language_info": {
   "codemirror_mode": {
    "name": "ipython",
    "version": 3
   },
   "file_extension": ".py",
   "mimetype": "text/x-python",
   "name": "python",
   "nbconvert_exporter": "python",
   "pygments_lexer": "ipython3",
   "version": "3.8.0"
  }
 },
 "nbformat": 4,
 "nbformat_minor": 4
}
